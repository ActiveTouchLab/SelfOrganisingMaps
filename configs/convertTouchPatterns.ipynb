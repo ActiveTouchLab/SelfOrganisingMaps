{
 "cells": [
  {
   "cell_type": "code",
   "execution_count": null,
   "metadata": {},
   "outputs": [],
   "source": [
    "import numpy as np\n",
    "import pickle as pk\n",
    "import h5py\n",
    "import seaborn as sns"
   ]
  },
  {
   "cell_type": "code",
   "execution_count": null,
   "metadata": {},
   "outputs": [],
   "source": [
    "inputs = np.load('weighted/inputs_weighted1.npy')\n",
    "with open('pop.pkl', 'rb') as f:\n",
    "        hand_pop = pk.load(f)"
   ]
  },
  {
   "cell_type": "code",
   "execution_count": null,
   "metadata": {},
   "outputs": [],
   "source": [
    "locs = hand_pop.surface.hand2pixel(hand_pop.location)/5\n",
    "bound = np.max(np.ceil(locs),axis=0).astype(np.int)\n",
    "bound"
   ]
  },
  {
   "cell_type": "code",
   "execution_count": null,
   "metadata": {},
   "outputs": [],
   "source": [
    "P = np.zeros((bound[0],bound[1],10000))\n",
    "for i in range(10000):\n",
    "    P[np.floor(locs[:,0]).astype(np.int),np.floor(locs[:,1]).astype(np.int),i] = inputs[:,i]\n",
    "P /= np.max(P)"
   ]
  },
  {
   "cell_type": "code",
   "execution_count": null,
   "metadata": {},
   "outputs": [],
   "source": [
    "sns.heatmap(np.sum(P,axis=2))"
   ]
  },
  {
   "cell_type": "code",
   "execution_count": null,
   "metadata": {},
   "outputs": [],
   "source": [
    "P = P.flatten(order='F')\n",
    "h5f = h5py.File('touchPatterns.h5','w')\n",
    "h5f.create_dataset('P',data=P)\n",
    "h5f.close()"
   ]
  }
 ],
 "metadata": {
  "kernelspec": {
   "display_name": "Python 3",
   "language": "python",
   "name": "python3"
  },
  "language_info": {
   "codemirror_mode": {
    "name": "ipython",
    "version": 3
   },
   "file_extension": ".py",
   "mimetype": "text/x-python",
   "name": "python",
   "nbconvert_exporter": "python",
   "pygments_lexer": "ipython3",
   "version": "3.7.4"
  }
 },
 "nbformat": 4,
 "nbformat_minor": 4
}
